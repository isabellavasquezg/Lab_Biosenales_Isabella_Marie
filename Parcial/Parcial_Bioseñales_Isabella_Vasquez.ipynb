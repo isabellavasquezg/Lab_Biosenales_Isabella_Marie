{
  "nbformat": 4,
  "nbformat_minor": 0,
  "metadata": {
    "colab": {
      "provenance": []
    },
    "kernelspec": {
      "name": "python3",
      "display_name": "Python 3"
    },
    "language_info": {
      "name": "python"
    }
  },
  "cells": [
    {
      "cell_type": "markdown",
      "source": [
        "# **Isabella Vásquez Garcia**\n",
        "# **C.C. 1000438341**\n",
        "\n",
        "4. Definir la frecuencia de muestreo para la siguiente señal y obtener las muestras de 10 segundos de la señal usando Colab\n",
        "\n",
        "**Grupo Juliana**\n",
        "\n",
        "x(t)= 4 ∗sen(40πt + (π /4))+ k ∗ cos(80πt)+ 5 Con k = 2(a+1) con a = 1 (último número de la cédula)\n",
        "\n",
        "K = 2"
      ],
      "metadata": {
        "id": "LeJSdhcyp1R4"
      }
    },
    {
      "cell_type": "code",
      "execution_count": 13,
      "metadata": {
        "id": "FcfNufSXpw7J"
      },
      "outputs": [],
      "source": [
        "import numpy as np\n",
        "import matplotlib.pyplot as plt\n",
        "from sympy import ifft\n",
        "import os\n",
        "import glob\n",
        "import scipy.stats as stats\n",
        "import scipy.io as sio\n",
        "import pandas as pd\n",
        "import scipy.signal as signal\n",
        "from scipy.signal import welch, filtfilt\n",
        "import os"
      ]
    },
    {
      "cell_type": "code",
      "source": [
        "# Frecuencia fundamental = frecuencia máxima\n",
        "F = 80\n",
        "# Periodo fundamental\n",
        "T = 1/F\n",
        "# Frecuencia de muestreo de la señal, teniendo en cuenta que es mayor a dos veces la frecuencia máxima (Según Nyquist)\n",
        "# La frecuencia máxima es de 80, entonces fs>120\n",
        "Fs = 2000\n",
        "# Periodo de muestreo\n",
        "Ts = 1/Fs\n",
        "# Definiendo el vector de tiempo\n",
        "t = np.linspace(0, T, int(Fs*T))\n",
        "# Definiendo la suma se sinosoides\n",
        "A = 1\n",
        "signal = 4 * np.sin(40 * np.pi * t + (np.pi / 4)) + 2 * np.cos(80 * np.pi * t) + 5\n",
        "# Gráfica\n",
        "plt.plot(t, signal, color=\"plum\")\n",
        "plt.title(\"Señal original\")\n",
        "plt.xlabel('Tiempo (s)')\n",
        "plt.ylabel('Amplitud')\n",
        "plt.show()\n"
      ],
      "metadata": {
        "colab": {
          "base_uri": "https://localhost:8080/",
          "height": 472
        },
        "id": "UIg0pK5cPzv1",
        "outputId": "e2cf687d-ae81-493f-e33a-b19a70aad5e4"
      },
      "execution_count": 22,
      "outputs": [
        {
          "output_type": "display_data",
          "data": {
            "text/plain": [
              "<Figure size 640x480 with 1 Axes>"
            ],
            "image/png": "[encoded data removed]"
          },
          "metadata": {}
        }
      ]
    },
    {
      "cell_type": "markdown",
      "source": [
        "5. Programar el periodograma de Welch (NO usar la función de scipy) mediante una función que:\n"
      ],
      "metadata": {
        "id": "3TKe44EoTEA3"
      }
    },
    {
      "cell_type": "code",
      "source": [
        "def periodograma(signal, M, S):\n",
        "  # Punto A\n",
        "  N = len(signal)\n",
        "  numerador = N-S\n",
        "  denominador = M - S\n",
        "  K = numerador // denominador\n",
        "  # PUNTO B\n",
        "  return"
      ],
      "metadata": {
        "id": "HSYSNXNGTDQ_"
      },
      "execution_count": 33,
      "outputs": []
    },
    {
      "cell_type": "markdown",
      "source": [
        "6. Validar el funcionamiento de la rutina"
      ],
      "metadata": {
        "id": "OPfA-ca5cPxE"
      }
    },
    {
      "cell_type": "code",
      "source": [
        "plt.figure(figsize=(15, 5))\n",
        "plt.plot(periodograma(signal, M = 40, S = 20))"
      ],
      "metadata": {
        "id": "2adphg6UdV9z"
      },
      "execution_count": null,
      "outputs": []
    },
    {
      "cell_type": "markdown",
      "source": [
        "7. Una señal fisiológica definida en el rango entre a Hz y b Hz se toma con frecuencia de muestreo de 100 Hz. Para esta señal:\n",
        "\n",
        "a. Diseñar el filtro pasa-altas teniendo en cuenta que se requiere que en la banda de rechazo la señal de salida sea por lo menos 10 veces menor en amplitud a la señal de entrada\n",
        "\n",
        "\n",
        "b. Diseñar el filtro pasa-bajas teniendo en cuenta que se requiere que en la banda de rechazo la señal de salida sea por lo menos 100 veces menor en amplitud a la señal de entrada\n",
        "\n",
        "\n",
        "Para el grupo de **Juliana**: a = 15 y b = 45\n",
        "\n",
        "**Hallando el orden del filtro pasa altas**\n",
        "\n",
        "Por ejemplo, si la entrada es 5V, la salida debe ser 0.5 (5/10), por lo tanto, la atenuación está dada por:\n",
        "\n",
        "20log(0.5/5) = -20, por lo tanto se puede utilizar una ventana de Rectangular con DelthaF = 0.9/m. Entonces, teniendo en cuenta la siguiente ecuación:\n",
        "\n",
        "**orden pasa altas = ((0.9)*100)/15 = 6+1**\n",
        "\n",
        "**Hallando el orden del filtro pasa bajas**\n",
        "\n",
        "Por ejemplo, si la entrada es 5V, la salida debe ser 0.05 (5/100), por lo tanto, la atenuación está dada por:\n",
        "\n",
        "20log(0.5/5) = -40, por lo tanto se puede utilizar una ventana de Hann con DelthaF = 3.1/m. Entonces, teniendo en cuenta la siguiente ecuación:\n",
        "\n",
        "**orden pasa altas = ((3.1)*100)/45 = 7 (aproximando 6.8)**\n"
      ],
      "metadata": {
        "id": "MbCvjZ7mUJhq"
      }
    }
  ]
}